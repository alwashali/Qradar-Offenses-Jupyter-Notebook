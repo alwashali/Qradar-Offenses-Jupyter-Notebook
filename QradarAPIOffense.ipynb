{
 "cells": [
  {
   "cell_type": "markdown",
   "id": "d6610e8c-8ddf-4296-a933-520f22a77184",
   "metadata": {},
   "source": [
    "# Qradar Offense Notebook\n",
    "Author: **@Ali_Alwashali**\n",
    "\n",
    "\n",
    "![QradarLogo](qradarlogo.png)\n",
    "\n",
    "### Dummy  Data"
   ]
  },
  {
   "cell_type": "code",
   "execution_count": 21,
   "id": "7e8c2334-266e-4409-be88-40835bab2370",
   "metadata": {
    "tags": []
   },
   "outputs": [],
   "source": [
    "import requests \n",
    "import pandas as pd\n",
    "import datetime\n",
    "import re\n",
    "import time\n",
    "import matplotlib.pyplot as plt\n",
    "from mpltools import layout\n",
    "from mpltools import color\n",
    "import urllib3\n"
   ]
  },
  {
   "cell_type": "markdown",
   "id": "80696d2b-8da9-46f2-9bbe-07d109f1611d",
   "metadata": {},
   "source": [
    "## Settings"
   ]
  },
  {
   "cell_type": "code",
   "execution_count": 27,
   "id": "b484b041-a19b-4595-9e36-980d2f7c639c",
   "metadata": {
    "tags": []
   },
   "outputs": [],
   "source": [
    "## set your company color code, online color pickers resutl in rgba than need to be divied by 255 to make it between 0 and 1. \n",
    "color=[(0.57,0.81,0.31)]\n",
    "#setting  \n",
    "pd.set_option('display.max_colwidth', 80)\n",
    "pd.set_option('display.max_columns', None)\n",
    "pd.set_option('display.width', None)\n",
    "urllib3.disable_warnings(urllib3.exceptions.InsecureRequestWarning)"
   ]
  },
  {
   "cell_type": "markdown",
   "id": "78e456e4-5f17-4494-843e-4fa85a4b7214",
   "metadata": {},
   "source": [
    "## Time Range\n",
    "Sepcify Start day time and End day. "
   ]
  },
  {
   "cell_type": "code",
   "execution_count": 28,
   "id": "45883ff1-f2c6-49d5-9e13-270e8c2b1a9a",
   "metadata": {},
   "outputs": [],
   "source": [
    "#Qradar accepts time in millisecond \n",
    "startday = (datetime.datetime(2022,4,25,0,0) - datetime.datetime(1970,1,1)).total_seconds() * 1000 \n",
    "endday = (datetime.datetime(2022,5,5,11,59) - datetime.datetime(1970,1,1)).total_seconds() * 1000"
   ]
  },
  {
   "cell_type": "markdown",
   "id": "40b9b7dc-801a-4454-8f1b-c852f65c6cf5",
   "metadata": {},
   "source": [
    "---\n",
    "---"
   ]
  },
  {
   "cell_type": "code",
   "execution_count": 29,
   "id": "8c87529b-90fb-4a69-8502-9cb73394392a",
   "metadata": {
    "tags": []
   },
   "outputs": [],
   "source": [
    "offenseURL = 'https://IPAddress/api/siem/offenses?filter=start_time%20%3E%20' + str(int(startday)) +\"%20and%20start_time%20%3C%20\" + str(int(endday))\n",
    "crURL = 'https://IPAddress/api/siem/offense_closing_reasons'\n",
    "\n",
    "headers=  {\n",
    "           'Range': 'items=0-100000','Version': '16.0',\n",
    "           'Accept': 'application/json',\n",
    "           'SEC': 'Token'\n",
    "          }"
   ]
  },
  {
   "cell_type": "code",
   "execution_count": 30,
   "id": "37767b0d-db18-4289-82bc-b88a84eab3cb",
   "metadata": {},
   "outputs": [
    {
     "name": "stdout",
     "output_type": "stream",
     "text": [
      "Offenses request status code:  200\n",
      "Closing Reason request status code:  200\n"
     ]
    }
   ],
   "source": [
    "#offenses\n",
    "ofR = requests.get(url = offenseURL,verify=False, headers=headers)\n",
    "print(\"Offenses request status code: \", ofR.status_code)\n",
    "data = ofR.json()\n",
    "\n",
    "# Closing reason \n",
    "crR = requests.get(url = crURL,verify=False, headers=headers)\n",
    "print(\"Closing Reason request status code: \", crR.status_code)\n",
    "closeingReasons = crR.json()"
   ]
  },
  {
   "cell_type": "code",
   "execution_count": null,
   "id": "c80f71b6-7441-487b-ba1c-3bc2c549d75f",
   "metadata": {},
   "outputs": [],
   "source": [
    "offenses = pd.DataFrame(data)"
   ]
  },
  {
   "cell_type": "markdown",
   "id": "a645fbce-2725-43b4-982d-251e267741e9",
   "metadata": {},
   "source": [
    "### Parsing epoch timestamps"
   ]
  },
  {
   "cell_type": "code",
   "execution_count": 33,
   "id": "20e3101a-29e9-4da7-b5b3-f55f369c431f",
   "metadata": {},
   "outputs": [
    {
     "name": "stdout",
     "output_type": "stream",
     "text": [
      "Parsed Timestamp sample:  2022-05-05 10:41:26.800000\n"
     ]
    }
   ],
   "source": [
    "offenses['offense_time'] = pd.to_datetime(offenses['start_time'],unit='ms')\n",
    "offenses.set_index('offense_time')\n",
    "print(\"Parsed Timestamp sample: \", offenses['offense_time'][1])"
   ]
  },
  {
   "cell_type": "markdown",
   "id": "b9fe3796-782b-461d-8e25-fe52f65f2586",
   "metadata": {},
   "source": [
    "-----"
   ]
  },
  {
   "cell_type": "markdown",
   "id": "06d9b495-48a5-4703-b137-d78da78735c4",
   "metadata": {},
   "source": [
    "## Mapping Closing reason ID to text in a new column **closing_reason**. \n",
    "\n",
    "One reason should be for the escalated true incidents/cases, and another for the false positives which need to be further tuned if noisy."
   ]
  },
  {
   "cell_type": "code",
   "execution_count": 34,
   "id": "e42c1392-9bca-4390-9df7-0fd074fe0743",
   "metadata": {},
   "outputs": [
    {
     "name": "stdout",
     "output_type": "stream",
     "text": [
      "ID:  2    Name:  False-Positive, Tuned\n",
      "ID:  1    Name:  Non-Issue\n",
      "ID:  3    Name:  Policy Violation\n",
      "ID:  256    Name:  Already-Reported\n",
      "ID:  204    Name:  Delete\n",
      "ID:  254    Name:  Escalated\n",
      "ID:  255    Name:  False-Positive\n",
      "ID:  154    Name:  Old Offenses\n",
      "ID:  55    Name:  Resolved\n",
      "ID:  104    Name:  Rule Need to be tuned\n",
      "ID:  105    Name:  Rule Under Testing\n",
      "ID:  257    Name:  To be monitored\n"
     ]
    }
   ],
   "source": [
    "for cr in closeingReasons: \n",
    "    offenses.loc[offenses['closing_reason_id'] == cr['id'], 'closing_reason'] = cr['text']\n",
    "    print(\"ID: \", cr['id'], \"   Name: \", cr['text'])"
   ]
  },
  {
   "cell_type": "markdown",
   "id": "1115f731-0e97-4c1e-8856-a97efc793bda",
   "metadata": {},
   "source": [
    "## Total Cases;"
   ]
  },
  {
   "cell_type": "code",
   "execution_count": 35,
   "id": "b09edc1c-448e-4be3-af46-965cb99d0272",
   "metadata": {},
   "outputs": [
    {
     "data": {
      "text/plain": [
       "493"
      ]
     },
     "execution_count": 35,
     "metadata": {},
     "output_type": "execute_result"
    }
   ],
   "source": [
    "offenses.shape[0]"
   ]
  },
  {
   "cell_type": "markdown",
   "id": "8d22e941-6a9a-40c0-af90-36c25a6568ec",
   "metadata": {},
   "source": [
    "## Date range "
   ]
  },
  {
   "cell_type": "code",
   "execution_count": 36,
   "id": "db95559b-8d2b-4614-8c80-03bf713170dc",
   "metadata": {
    "tags": []
   },
   "outputs": [
    {
     "name": "stdout",
     "output_type": "stream",
     "text": [
      "10 days 11:48:07.814000\n"
     ]
    }
   ],
   "source": [
    "print(offenses['offense_time'].max() - offenses['offense_time'].min())"
   ]
  },
  {
   "cell_type": "markdown",
   "id": "958d353d-fcae-4e59-9c62-12afc9e6bd75",
   "metadata": {},
   "source": [
    "## Count of offenses by Closing Reason "
   ]
  },
  {
   "cell_type": "code",
   "execution_count": 78,
   "id": "29fefbd0-70d2-4ccb-8d9b-6ebb714fa289",
   "metadata": {},
   "outputs": [
    {
     "data": {
      "text/plain": [
       "False-Positive           324\n",
       "To be monitored          141\n",
       "Already-Reported          10\n",
       "Escalated                  8\n",
       "Rule Need to be tuned      7\n",
       "False-Positive, Tuned      2\n",
       "Name: closing_reason, dtype: int64"
      ]
     },
     "execution_count": 78,
     "metadata": {},
     "output_type": "execute_result"
    }
   ],
   "source": [
    "offenses['closing_reason'].value_counts()"
   ]
  },
  {
   "cell_type": "markdown",
   "id": "6194088e-6574-43e4-a745-653fc7a5bb42",
   "metadata": {
    "tags": []
   },
   "source": [
    "### offenses count by day"
   ]
  },
  {
   "cell_type": "code",
   "execution_count": 54,
   "id": "f2098ab1-c2ff-4b88-aa82-bd325b3d05d3",
   "metadata": {},
   "outputs": [
    {
     "data": {
      "text/plain": [
       "<AxesSubplot:xlabel='offense_time'>"
      ]
     },
     "execution_count": 54,
     "metadata": {},
     "output_type": "execute_result"
    },
    {
     "data": {
      "image/png": "[encoded data removed]",
      "text/plain": [
       "<Figure size 864x288 with 1 Axes>"
      ]
     },
     "metadata": {
      "needs_background": "light"
     },
     "output_type": "display_data"
    }
   ],
   "source": [
    "fig, axs = plt.subplots(figsize=(12, 4))\n",
    "offenses.groupby(offenses['offense_time'].dt.day)['id'].count().plot(kind='bar', rot=0, ax=axs)"
   ]
  },
  {
   "cell_type": "markdown",
   "id": "823228ce-27d4-4c2a-afbd-fd35ee5e6764",
   "metadata": {},
   "source": [
    "### offense count by hour"
   ]
  },
  {
   "cell_type": "code",
   "execution_count": 55,
   "id": "fd5544d5-4bb5-4e57-8b6d-f38cba456e09",
   "metadata": {},
   "outputs": [
    {
     "data": {
      "text/plain": [
       "<AxesSubplot:xlabel='offense_time'>"
      ]
     },
     "execution_count": 55,
     "metadata": {},
     "output_type": "execute_result"
    },
    {
     "data": {
      "image/png": "[encoded data removed]",
      "text/plain": [
       "<Figure size 864x288 with 1 Axes>"
      ]
     },
     "metadata": {
      "needs_background": "light"
     },
     "output_type": "display_data"
    }
   ],
   "source": [
    "fig, axs = plt.subplots(figsize=(12, 4))\n",
    "offenses.groupby(offenses['offense_time'].dt.hour)['id'].count().plot(kind='line', rot=0, ax=axs)"
   ]
  },
  {
   "cell_type": "markdown",
   "id": "4560dc95-7d07-4968-a651-5e7e97d3e0ab",
   "metadata": {},
   "source": [
    "## Esclated cases by day \n",
    "You need to put the closing reason ID used in your Qradar. Refer the closing reason mapping step. "
   ]
  },
  {
   "cell_type": "code",
   "execution_count": 56,
   "id": "e7eade17-7673-4a96-8777-bba85298830e",
   "metadata": {},
   "outputs": [
    {
     "name": "stdout",
     "output_type": "stream",
     "text": [
      "Number of escalated offenses:  8\n"
     ]
    },
    {
     "data": {
      "image/png": "[encoded data removed]",
      "text/plain": [
       "<Figure size 864x288 with 1 Axes>"
      ]
     },
     "metadata": {
      "needs_background": "light"
     },
     "output_type": "display_data"
    }
   ],
   "source": [
    "fig, axs = plt.subplots(figsize=(12, 4))\n",
    "offenses[offenses['closing_reason'] == 'Escalated'].groupby(offenses['offense_time'].dt.day)['id'].count().plot(kind='bar', rot=0, ax=axs)\n",
    "print(\"Number of escalated offenses: \", len(offenses[offenses['closing_reason'] == \"Escalated\"]))"
   ]
  },
  {
   "cell_type": "markdown",
   "id": "05b039e3-dc46-44c0-bb7f-e0588419a93e",
   "metadata": {},
   "source": [
    "## Group by status \n"
   ]
  },
  {
   "cell_type": "code",
   "execution_count": 57,
   "id": "36e837d5-7e22-43ad-9396-4c4046dfeea7",
   "metadata": {},
   "outputs": [
    {
     "data": {
      "text/plain": [
       "status\n",
       "CLOSED    492\n",
       "OPEN        1\n",
       "Name: status, dtype: int64"
      ]
     },
     "execution_count": 57,
     "metadata": {},
     "output_type": "execute_result"
    }
   ],
   "source": [
    "offenses['status'].groupby(by=offenses['status']).count()"
   ]
  },
  {
   "cell_type": "markdown",
   "id": "0fae1f4b-d2a7-4db9-8868-6c752c4276ba",
   "metadata": {},
   "source": [
    "### Top Offesnes count\n",
    "below shows the top x (can be changed in the code) rules with a count for the number of times triggered in the SIEM"
   ]
  },
  {
   "cell_type": "code",
   "execution_count": 114,
   "id": "9d69e2c1-1c31-475e-b669-1215829d58fd",
   "metadata": {},
   "outputs": [
    {
     "data": {
      "text/html": [
       "<div>\n",
       "<style scoped>\n",
       "    .dataframe tbody tr th:only-of-type {\n",
       "        vertical-align: middle;\n",
       "    }\n",
       "\n",
       "    .dataframe tbody tr th {\n",
       "        vertical-align: top;\n",
       "    }\n",
       "\n",
       "    .dataframe thead th {\n",
       "        text-align: right;\n",
       "    }\n",
       "</style>\n",
       "<table border=\"1\" class=\"dataframe\">\n",
       "  <thead>\n",
       "    <tr style=\"text-align: right;\">\n",
       "      <th></th>\n",
       "      <th>offense</th>\n",
       "      <th>counts</th>\n",
       "    </tr>\n",
       "  </thead>\n",
       "  <tbody>\n",
       "    <tr>\n",
       "      <th>0</th>\n",
       "      <td>SSh Related Offense</td>\n",
       "      <td>79</td>\n",
       "    </tr>\n",
       "    <tr>\n",
       "      <th>1</th>\n",
       "      <td>Scanner detected</td>\n",
       "      <td>65</td>\n",
       "    </tr>\n",
       "    <tr>\n",
       "      <th>2</th>\n",
       "      <td>Powershell abuse</td>\n",
       "      <td>48</td>\n",
       "    </tr>\n",
       "    <tr>\n",
       "      <th>3</th>\n",
       "      <td>BruteForce Detected against our amazing platform</td>\n",
       "      <td>41</td>\n",
       "    </tr>\n",
       "    <tr>\n",
       "      <th>4</th>\n",
       "      <td>High Number of Emails to Invalid Recipients from the Same Source\\n containin...</td>\n",
       "      <td>38</td>\n",
       "    </tr>\n",
       "  </tbody>\n",
       "</table>\n",
       "</div>"
      ],
      "text/plain": [
       "                                                                           offense  \\\n",
       "0                                                              SSh Related Offense   \n",
       "1                                                                 Scanner detected   \n",
       "2                                                                 Powershell abuse   \n",
       "3                                 BruteForce Detected against our amazing platform   \n",
       "4  High Number of Emails to Invalid Recipients from the Same Source\\n containin...   \n",
       "\n",
       "   counts  \n",
       "0      79  \n",
       "1      65  \n",
       "2      48  \n",
       "3      41  \n",
       "4      38  "
      ]
     },
     "execution_count": 114,
     "metadata": {},
     "output_type": "execute_result"
    }
   ],
   "source": [
    "offenses['description'].value_counts().rename_axis('offense').reset_index(name='counts').head(5)\n",
    "## Names of the offense were changed"
   ]
  },
  {
   "cell_type": "markdown",
   "id": "7061f7b4-c830-4370-85c4-330ec36f7691",
   "metadata": {},
   "source": [
    "## Group by offense source evidence"
   ]
  },
  {
   "cell_type": "code",
   "execution_count": 139,
   "id": "9edc95f1-7db1-422f-b961-481c17448b51",
   "metadata": {},
   "outputs": [
    {
     "data": {
      "text/html": [
       "<div>\n",
       "<style scoped>\n",
       "    .dataframe tbody tr th:only-of-type {\n",
       "        vertical-align: middle;\n",
       "    }\n",
       "\n",
       "    .dataframe tbody tr th {\n",
       "        vertical-align: top;\n",
       "    }\n",
       "\n",
       "    .dataframe thead th {\n",
       "        text-align: right;\n",
       "    }\n",
       "</style>\n",
       "<table border=\"1\" class=\"dataframe\">\n",
       "  <thead>\n",
       "    <tr style=\"text-align: right;\">\n",
       "      <th></th>\n",
       "      <th>description</th>\n",
       "      <th>offense_source</th>\n",
       "      <th>counts</th>\n",
       "    </tr>\n",
       "  </thead>\n",
       "  <tbody>\n",
       "    <tr>\n",
       "      <th>88</th>\n",
       "      <td>Powershell abuse</td>\n",
       "      <td>192.192.192.12</td>\n",
       "      <td>44</td>\n",
       "    </tr>\n",
       "    <tr>\n",
       "      <th>3</th>\n",
       "      <td>BruteForce Detected against our amazing platform</td>\n",
       "      <td>172.222.205.38</td>\n",
       "      <td>39</td>\n",
       "    </tr>\n",
       "    <tr>\n",
       "      <th>43</th>\n",
       "      <td>High Number of Emails to Invalid Recipients from the Same Source\\n containin...</td>\n",
       "      <td>exch@Johny.com</td>\n",
       "      <td>38</td>\n",
       "    </tr>\n",
       "    <tr>\n",
       "      <th>39</th>\n",
       "      <td>Failure Audit: The domain controller failed to validate the credentials for ...</td>\n",
       "      <td>172.222.192..198</td>\n",
       "      <td>28</td>\n",
       "    </tr>\n",
       "    <tr>\n",
       "      <th>197</th>\n",
       "      <td>Someone Doesnt't like our FTP server</td>\n",
       "      <td>172.222.192..192.</td>\n",
       "      <td>20</td>\n",
       "    </tr>\n",
       "    <tr>\n",
       "      <th>190</th>\n",
       "      <td>Scanner detected</td>\n",
       "      <td>45.61.184.166</td>\n",
       "      <td>12</td>\n",
       "    </tr>\n",
       "    <tr>\n",
       "      <th>77</th>\n",
       "      <td>Multiple Login Failures with Root or Admin User\\n containing User space auth...</td>\n",
       "      <td>192.157.84.18</td>\n",
       "      <td>11</td>\n",
       "    </tr>\n",
       "    <tr>\n",
       "      <th>163</th>\n",
       "      <td>Scanner detected</td>\n",
       "      <td>146.88.240.4</td>\n",
       "      <td>8</td>\n",
       "    </tr>\n",
       "    <tr>\n",
       "      <th>53</th>\n",
       "      <td>Johny :Local ICMP Scanner\\n</td>\n",
       "      <td>172.222.192..82</td>\n",
       "      <td>8</td>\n",
       "    </tr>\n",
       "    <tr>\n",
       "      <th>195</th>\n",
       "      <td>Scanner detected</td>\n",
       "      <td>92.63.197.94</td>\n",
       "      <td>6</td>\n",
       "    </tr>\n",
       "  </tbody>\n",
       "</table>\n",
       "</div>"
      ],
      "text/plain": [
       "                                                                         description  \\\n",
       "88                                                                  Powershell abuse   \n",
       "3                                   BruteForce Detected against our amazing platform   \n",
       "43   High Number of Emails to Invalid Recipients from the Same Source\\n containin...   \n",
       "39   Failure Audit: The domain controller failed to validate the credentials for ...   \n",
       "197                                             Someone Doesnt't like our FTP server   \n",
       "190                                                                 Scanner detected   \n",
       "77   Multiple Login Failures with Root or Admin User\\n containing User space auth...   \n",
       "163                                                                 Scanner detected   \n",
       "53                                                       Johny :Local ICMP Scanner\\n   \n",
       "195                                                                 Scanner detected   \n",
       "\n",
       "        offense_source  counts  \n",
       "88      192.192.192.12      44  \n",
       "3       172.222.205.38      39  \n",
       "43      exch@Johny.com      38  \n",
       "39     172.222.192.198      28  \n",
       "197    172.222.192.192      20  \n",
       "190      45.61.184.166      12  \n",
       "77       192.157.84.18      11  \n",
       "163       146.88.240.4       8  \n",
       "53      172.222.192.82       8  \n",
       "195       92.63.197.94       6  "
      ]
     },
     "execution_count": 139,
     "metadata": {},
     "output_type": "execute_result"
    }
   ],
   "source": [
    "gp = offenses[['description','offense_source']].groupby(['description','offense_source']) \n",
    "gp.size().reset_index(name='counts').sort_values(\"counts\", ascending=False).head(10)"
   ]
  },
  {
   "cell_type": "markdown",
   "id": "79d00fef-2074-477b-83c8-f9b2f33f8a97",
   "metadata": {},
   "source": [
    "--- "
   ]
  },
  {
   "cell_type": "markdown",
   "id": "d1f0b52d-7933-4ef5-8b88-6b19f219b7a4",
   "metadata": {},
   "source": [
    "## Top noisy offenses sources "
   ]
  },
  {
   "cell_type": "markdown",
   "id": "cd1380f9-7ea9-4383-a62a-4f31c0315c30",
   "metadata": {},
   "source": [
    "There are cases were the noise is coming from only one or two items that can be easily tuned. The top 10 noisy rules are anlayzed for the most noisy source causing alerts to fire. "
   ]
  },
  {
   "cell_type": "code",
   "execution_count": 153,
   "id": "27ca5b15-170c-42e3-ac38-a525bd9c49f8",
   "metadata": {},
   "outputs": [],
   "source": [
    "# Top 10 triggered offense \n",
    "Names_ofTop10 = offenses[\"description\"].value_counts().head(10).rename_axis('description').reset_index(name='counts')[\"description\"]\n",
    "top10 = pd.merge(offenses,Names_ofTop10,on='description')"
   ]
  },
  {
   "cell_type": "code",
   "execution_count": 154,
   "id": "2bfb7c41-499d-40b7-9bbc-4e572e4d9d39",
   "metadata": {},
   "outputs": [
    {
     "data": {
      "image/png": "[encoded data removed]",
      "text/plain": [
       "<Figure size 432x288 with 1 Axes>"
      ]
     },
     "metadata": {
      "needs_background": "light"
     },
     "output_type": "display_data"
    },
    {
     "name": "stdout",
     "output_type": "stream",
     "text": [
      "BruteForce Detected against our amazing platform\n",
      "\n",
      "\n"
     ]
    },
    {
     "data": {
      "image/png": "[encoded data removed]",
      "text/plain": [
       "<Figure size 432x288 with 1 Axes>"
      ]
     },
     "metadata": {
      "needs_background": "light"
     },
     "output_type": "display_data"
    },
    {
     "name": "stdout",
     "output_type": "stream",
     "text": [
      "DC is angry on some account\n",
      "\n",
      "\n",
      "\n"
     ]
    },
    {
     "data": {
      "image/png": "[encoded data removed]",
      "text/plain": [
       "<Figure size 432x288 with 1 Axes>"
      ]
     },
     "metadata": {
      "needs_background": "light"
     },
     "output_type": "display_data"
    },
    {
     "name": "stdout",
     "output_type": "stream",
     "text": [
      "Multiple Login Failures with Superman or Batman User\n",
      " containing User space authentication failed\n",
      "\n",
      "\n",
      "\n"
     ]
    },
    {
     "data": {
      "image/png": "[encoded data removed]",
      "text/plain": [
       "<Figure size 432x288 with 1 Axes>"
      ]
     },
     "metadata": {
      "needs_background": "light"
     },
     "output_type": "display_data"
    },
    {
     "name": "stdout",
     "output_type": "stream",
     "text": [
      "New Domain Batman Added\n",
      "\n",
      "\n"
     ]
    },
    {
     "data": {
      "image/png": "[encoded data removed]",
      "text/plain": [
       "<Figure size 432x288 with 1 Axes>"
      ]
     },
     "metadata": {
      "needs_background": "light"
     },
     "output_type": "display_data"
    },
    {
     "name": "stdout",
     "output_type": "stream",
     "text": [
      "Pishing attempt\n",
      " containing MSGTRKMS::DSN\n",
      "\n",
      "\n",
      "\n"
     ]
    },
    {
     "data": {
      "image/png": "[encoded data removed]",
      "text/plain": [
       "<Figure size 432x288 with 1 Axes>"
      ]
     },
     "metadata": {
      "needs_background": "light"
     },
     "output_type": "display_data"
    },
    {
     "name": "stdout",
     "output_type": "stream",
     "text": [
      "Powershell abuse\n",
      "\n",
      "\n"
     ]
    },
    {
     "data": {
      "image/png": "[encoded data removed]",
      "text/plain": [
       "<Figure size 432x288 with 1 Axes>"
      ]
     },
     "metadata": {
      "needs_background": "light"
     },
     "output_type": "display_data"
    },
    {
     "name": "stdout",
     "output_type": "stream",
     "text": [
      "SSh Related Offense\n",
      "\n",
      "\n"
     ]
    },
    {
     "data": {
      "image/png": "[encoded data removed]",
      "text/plain": [
       "<Figure size 432x288 with 1 Axes>"
      ]
     },
     "metadata": {
      "needs_background": "light"
     },
     "output_type": "display_data"
    },
    {
     "name": "stdout",
     "output_type": "stream",
     "text": [
      "Scanner detected\n",
      "\n",
      "\n"
     ]
    },
    {
     "data": {
      "image/png": "[encoded data removed]",
      "text/plain": [
       "<Figure size 432x288 with 1 Axes>"
      ]
     },
     "metadata": {
      "needs_background": "light"
     },
     "output_type": "display_data"
    },
    {
     "name": "stdout",
     "output_type": "stream",
     "text": [
      "Someone Doesnt't like our FTP server\n",
      "\n",
      "\n"
     ]
    },
    {
     "data": {
      "image/png": "[encoded data removed]",
      "text/plain": [
       "<Figure size 432x288 with 1 Axes>"
      ]
     },
     "metadata": {
      "needs_background": "light"
     },
     "output_type": "display_data"
    },
    {
     "name": "stdout",
     "output_type": "stream",
     "text": [
      "X-Force Match\n",
      "\n",
      "\n"
     ]
    }
   ],
   "source": [
    "top10_by_group = top10.groupby(\"description\")\n",
    "for name, group in top10_by_group:\n",
    "    fig.suptitle(name)\n",
    "    #print(group[\"offense_source\"].value_counts().head(10))\n",
    "    plt.figure()\n",
    "    plot_data = group[\"offense_source\"].value_counts().head(10)\n",
    "    plot_data.plot(kind=\"bar\",color=color, label=name)\n",
    "    plt.show()\n",
    "    print(name)\n",
    "    print(\"\\n\")"
   ]
  },
  {
   "cell_type": "markdown",
   "id": "bf6aaeef-c9e0-4e69-acf8-0cfaa8298e76",
   "metadata": {},
   "source": [
    "## Top Destination offense items \n",
    "Follwoing graphs shows the most commuincated destinations by each rule. "
   ]
  },
  {
   "cell_type": "code",
   "execution_count": 155,
   "id": "f8ba2198-52b6-47e9-869a-0aad00c54596",
   "metadata": {},
   "outputs": [],
   "source": [
    "#local_destination_address_ids\n",
    "offense_byDestinNetwork = pd.DataFrame(columns = ['offense','dest_id','dest_addr'])\n",
    "dest_network_url = \"https://IPAddress/api/siem/local_destination_addresses?filter=id%3D\" \n",
    "\n",
    "for name, group in top10_by_group:\n",
    "    for dest_addrs in group[\"local_destination_address_ids\"].value_counts().head(10).rename_axis('dest_addr').reset_index(name='counts')[\"dest_addr\"]:\n",
    "        for addr_id in dest_addrs:\n",
    "            if addr_id not in offense_byDestinNetwork['dest_id'].to_list():\n",
    "                ofR = requests.get(url = dest_network_url+str(addr_id) ,verify=False, headers=headers)\n",
    "                #print(\"Offenses request status code: \", ofR.status_code)\n",
    "                data = ofR.json()\n",
    "                MappedAddr = data[0]['local_destination_ip']\n",
    "                t = pd.DataFrame([[group[\"description\"], addr_id, MappedAddr]], columns = ['offense','dest_id','dest_addr'])\n",
    "                offense_byDestinNetwork = pd.concat([offense_byDestinNetwork,t],ignore_index=True, axis = 0)\n",
    "                time.sleep(0.05)\n",
    "# convert local_destination_address_ids values from a list type to indvidual items by duplicating the rows for each value in a list  \n",
    "top10 = top10.explode('local_destination_address_ids')"
   ]
  },
  {
   "cell_type": "code",
   "execution_count": 161,
   "id": "9d72d23a-e5e0-4b2e-8626-56b99255beed",
   "metadata": {},
   "outputs": [],
   "source": [
    "for dest_id in offense_byDestinNetwork['dest_id']:\n",
    "    top10.loc[top10['local_destination_address_ids'] == dest_id, 'dest_addr'] = offense_byDestinNetwork[offense_byDestinNetwork['dest_id'] == dest_id].dest_addr.item()\n",
    "    #print(top10[top10['local_destination_address_ids'] == dest_id]['local_destination_address_ids'])"
   ]
  },
  {
   "cell_type": "code",
   "execution_count": 168,
   "id": "5a7a37c8-71da-42ef-aaba-cab11fabad5d",
   "metadata": {},
   "outputs": [
    {
     "data": {
      "image/png": "[encoded data removed]",
      "text/plain": [
       "<Figure size 432x288 with 1 Axes>"
      ]
     },
     "metadata": {
      "needs_background": "light"
     },
     "output_type": "display_data"
    },
    {
     "name": "stdout",
     "output_type": "stream",
     "text": [
      "BruteForce Detected against our amazing platform\n",
      "\n",
      "\n"
     ]
    },
    {
     "data": {
      "image/png": "[encoded data removed]",
      "text/plain": [
       "<Figure size 432x288 with 1 Axes>"
      ]
     },
     "metadata": {
      "needs_background": "light"
     },
     "output_type": "display_data"
    },
    {
     "name": "stdout",
     "output_type": "stream",
     "text": [
      "DC is angry on some account\n",
      "\n",
      "\n",
      "\n"
     ]
    },
    {
     "data": {
      "image/png": "[encoded data removed]",
      "text/plain": [
       "<Figure size 432x288 with 1 Axes>"
      ]
     },
     "metadata": {
      "needs_background": "light"
     },
     "output_type": "display_data"
    },
    {
     "name": "stdout",
     "output_type": "stream",
     "text": [
      "Multiple Login Failures with Superman or Batman User\n",
      " containing User space authentication failed\n",
      "\n",
      "\n",
      "\n"
     ]
    },
    {
     "data": {
      "image/png": "[encoded data removed]",
      "text/plain": [
       "<Figure size 432x288 with 1 Axes>"
      ]
     },
     "metadata": {
      "needs_background": "light"
     },
     "output_type": "display_data"
    },
    {
     "name": "stdout",
     "output_type": "stream",
     "text": [
      "New Domain Batman Added\n",
      "\n",
      "\n"
     ]
    },
    {
     "data": {
      "image/png": "[encoded data removed]",
      "text/plain": [
       "<Figure size 432x288 with 1 Axes>"
      ]
     },
     "metadata": {
      "needs_background": "light"
     },
     "output_type": "display_data"
    },
    {
     "name": "stdout",
     "output_type": "stream",
     "text": [
      "Pishing attempt\n",
      " containing MSGTRKMS::DSN\n",
      "\n",
      "\n",
      "\n"
     ]
    },
    {
     "data": {
      "image/png": "[encoded data removed]",
      "text/plain": [
       "<Figure size 432x288 with 1 Axes>"
      ]
     },
     "metadata": {
      "needs_background": "light"
     },
     "output_type": "display_data"
    },
    {
     "name": "stdout",
     "output_type": "stream",
     "text": [
      "Powershell abuse\n",
      "\n",
      "\n"
     ]
    },
    {
     "data": {
      "image/png": "[encoded data removed]",
      "text/plain": [
       "<Figure size 432x288 with 1 Axes>"
      ]
     },
     "metadata": {
      "needs_background": "light"
     },
     "output_type": "display_data"
    },
    {
     "name": "stdout",
     "output_type": "stream",
     "text": [
      "Scanner detected\n",
      "\n",
      "\n"
     ]
    },
    {
     "data": {
      "image/png": "[encoded data removed]",
      "text/plain": [
       "<Figure size 432x288 with 1 Axes>"
      ]
     },
     "metadata": {
      "needs_background": "light"
     },
     "output_type": "display_data"
    },
    {
     "name": "stdout",
     "output_type": "stream",
     "text": [
      "Someone Doesnt't like our FTP server\n",
      "\n",
      "\n"
     ]
    }
   ],
   "source": [
    "by_dest_addr = top10[top10['dest_addr'].notnull()].groupby(['description']) \n",
    "for name, group in by_dest_addr:\n",
    "    fig.suptitle(name)\n",
    "    #print(group[\"offense_source\"].value_counts().head(10))\n",
    "    plt.figure()\n",
    "    plot_data = group[\"dest_addr\"].value_counts().head(10)\n",
    "    plot_data.plot(kind=\"bar\",color=color, label=name)\n",
    "    plt.show()\n",
    "    print(name)\n",
    "    print(\"\\n\")"
   ]
  },
  {
   "cell_type": "markdown",
   "id": "427e5318-99dc-4884-82c8-2490da214ed3",
   "metadata": {},
   "source": [
    "## Top destination communicated in all offenses"
   ]
  },
  {
   "cell_type": "code",
   "execution_count": 169,
   "id": "935a268a-26a8-4d9e-8846-b1f90a2bdb0a",
   "metadata": {},
   "outputs": [
    {
     "data": {
      "text/plain": [
       "172.222.205.38     39\n",
       "172.222.105.102    37\n",
       "172.222.105.101    35\n",
       "172.222.105.198    28\n",
       "172.222.158.12     14\n",
       "172.17.18.75       14\n",
       "172.222.102.117    14\n",
       "172.222.209.3      13\n",
       "172.222.205.231    11\n",
       "172.157.84.19      11\n",
       "Name: dest_addr, dtype: int64"
      ]
     },
     "execution_count": 169,
     "metadata": {},
     "output_type": "execute_result"
    }
   ],
   "source": [
    "top10['dest_addr'].value_counts().head(10)"
   ]
  },
  {
   "cell_type": "markdown",
   "id": "57f9e216-805d-49e6-8426-aefe357e0b2a",
   "metadata": {},
   "source": [
    "## Top source networks with offenses\n",
    "Qradar network and asset register must be correct in order to show the source of most of the incidents."
   ]
  },
  {
   "cell_type": "code",
   "execution_count": 217,
   "id": "8240cf51-13a1-4142-93e9-44b0322c2162",
   "metadata": {},
   "outputs": [
    {
     "data": {
      "text/html": [
       "<div>\n",
       "<style scoped>\n",
       "    .dataframe tbody tr th:only-of-type {\n",
       "        vertical-align: middle;\n",
       "    }\n",
       "\n",
       "    .dataframe tbody tr th {\n",
       "        vertical-align: top;\n",
       "    }\n",
       "\n",
       "    .dataframe thead th {\n",
       "        text-align: right;\n",
       "    }\n",
       "</style>\n",
       "<table border=\"1\" class=\"dataframe\">\n",
       "  <thead>\n",
       "    <tr style=\"text-align: right;\">\n",
       "      <th></th>\n",
       "      <th>Source Network</th>\n",
       "      <th>counts</th>\n",
       "    </tr>\n",
       "  </thead>\n",
       "  <tbody>\n",
       "    <tr>\n",
       "      <th>0</th>\n",
       "      <td>ChinaServers.USA_SF.USA_SF_F5</td>\n",
       "      <td>191</td>\n",
       "    </tr>\n",
       "    <tr>\n",
       "      <th>1</th>\n",
       "      <td>other</td>\n",
       "      <td>120</td>\n",
       "    </tr>\n",
       "    <tr>\n",
       "      <th>2</th>\n",
       "      <td>GuestZone</td>\n",
       "      <td>98</td>\n",
       "    </tr>\n",
       "    <tr>\n",
       "      <th>3</th>\n",
       "      <td>InZone.Unknown_subnet</td>\n",
       "      <td>14</td>\n",
       "    </tr>\n",
       "    <tr>\n",
       "      <th>4</th>\n",
       "      <td>InZone.VAS-Network</td>\n",
       "      <td>13</td>\n",
       "    </tr>\n",
       "    <tr>\n",
       "      <th>5</th>\n",
       "      <td>MarketingSubnet</td>\n",
       "      <td>11</td>\n",
       "    </tr>\n",
       "    <tr>\n",
       "      <th>6</th>\n",
       "      <td>VirtualizedEnv</td>\n",
       "      <td>6</td>\n",
       "    </tr>\n",
       "    <tr>\n",
       "      <th>7</th>\n",
       "      <td>LoadBalancedZoneDMZ</td>\n",
       "      <td>6</td>\n",
       "    </tr>\n",
       "    <tr>\n",
       "      <th>8</th>\n",
       "      <td>EarsZone.USA_DC.WifiU</td>\n",
       "      <td>6</td>\n",
       "    </tr>\n",
       "    <tr>\n",
       "      <th>9</th>\n",
       "      <td>WebZone_Protected</td>\n",
       "      <td>5</td>\n",
       "    </tr>\n",
       "  </tbody>\n",
       "</table>\n",
       "</div>"
      ],
      "text/plain": [
       "                  Source Network  counts\n",
       "0  ChinaServers.USA_SF.USA_SF_F5     191\n",
       "1                          other     120\n",
       "2                      GuestZone      98\n",
       "3          InZone.Unknown_subnet      14\n",
       "4             InZone.VAS-Network      13\n",
       "5                MarketingSubnet      11\n",
       "6                 VirtualizedEnv       6\n",
       "7            LoadBalancedZoneDMZ       6\n",
       "8          EarsZone.USA_DC.WifiU       6\n",
       "9              WebZone_Protected       5"
      ]
     },
     "execution_count": 217,
     "metadata": {},
     "output_type": "execute_result"
    }
   ],
   "source": [
    "offenses[[\"source_network\"]].value_counts().head(10).rename_axis('Source Network').reset_index(name='counts') "
   ]
  },
  {
   "cell_type": "markdown",
   "id": "9de6fe3b-4e9b-4e59-ad1e-7d463497739f",
   "metadata": {},
   "source": [
    "## Detections by Security security contorl - most frequent \n",
    "below shows the most log source causing the offenses. Security controls such as Firewalls, WAFs, EDRs are expected to have many telemetries and offenses to an accetpable level, but not servers and client machines. "
   ]
  },
  {
   "cell_type": "code",
   "execution_count": null,
   "id": "cf95da6b-4ad4-4da1-98a3-4887814eae6e",
   "metadata": {},
   "outputs": [],
   "source": [
    "logsources=[]\n",
    "for ls in offenses[\"log_sources\"]:\n",
    "    for l in ls:\n",
    "        if \"Custom Rule Engine\" not in l['name']:\n",
    "            logsources.append(l['name'])\n",
    "         \n",
    "lsDF = pd.DataFrame(logsources)"
   ]
  },
  {
   "cell_type": "code",
   "execution_count": 248,
   "id": "a1bb54bf-f650-4ceb-8bdb-da6331b49af8",
   "metadata": {},
   "outputs": [
    {
     "data": {
      "text/html": [
       "<div>\n",
       "<style scoped>\n",
       "    .dataframe tbody tr th:only-of-type {\n",
       "        vertical-align: middle;\n",
       "    }\n",
       "\n",
       "    .dataframe tbody tr th {\n",
       "        vertical-align: top;\n",
       "    }\n",
       "\n",
       "    .dataframe thead th {\n",
       "        text-align: right;\n",
       "    }\n",
       "</style>\n",
       "<table border=\"1\" class=\"dataframe\">\n",
       "  <thead>\n",
       "    <tr style=\"text-align: right;\">\n",
       "      <th></th>\n",
       "      <th>Log Sources</th>\n",
       "      <th>counts</th>\n",
       "    </tr>\n",
       "  </thead>\n",
       "  <tbody>\n",
       "    <tr>\n",
       "      <th>0</th>\n",
       "      <td>FW@172.123.40.89</td>\n",
       "      <td>123</td>\n",
       "    </tr>\n",
       "    <tr>\n",
       "      <th>1</th>\n",
       "      <td>Z122UnixPPLANET</td>\n",
       "      <td>45</td>\n",
       "    </tr>\n",
       "    <tr>\n",
       "      <th>2</th>\n",
       "      <td>Z122Unix2</td>\n",
       "      <td>41</td>\n",
       "    </tr>\n",
       "    <tr>\n",
       "      <th>3</th>\n",
       "      <td>Z122UnixPDC01</td>\n",
       "      <td>40</td>\n",
       "    </tr>\n",
       "    <tr>\n",
       "      <th>4</th>\n",
       "      <td>syslog 172.123.172.198</td>\n",
       "      <td>40</td>\n",
       "    </tr>\n",
       "    <tr>\n",
       "      <th>5</th>\n",
       "      <td>Web_customMail@172.123.172.121</td>\n",
       "      <td>39</td>\n",
       "    </tr>\n",
       "    <tr>\n",
       "      <th>6</th>\n",
       "      <td>Exc@172.123.172.14</td>\n",
       "      <td>36</td>\n",
       "    </tr>\n",
       "    <tr>\n",
       "      <th>7</th>\n",
       "      <td>Z122UnixPSPDEV01</td>\n",
       "      <td>20</td>\n",
       "    </tr>\n",
       "    <tr>\n",
       "      <th>8</th>\n",
       "      <td>LinuxServer @ Laboratory-14</td>\n",
       "      <td>11</td>\n",
       "    </tr>\n",
       "    <tr>\n",
       "      <th>9</th>\n",
       "      <td>syslog 172.123.1.121</td>\n",
       "      <td>9</td>\n",
       "    </tr>\n",
       "  </tbody>\n",
       "</table>\n",
       "</div>"
      ],
      "text/plain": [
       "                      Log Sources  counts\n",
       "0                FW@172.123.40.89     123\n",
       "1                 Z122UnixPPLANET      45\n",
       "2                       Z122Unix2      41\n",
       "3                   Z122UnixPDC01      40\n",
       "4          syslog 172.123.172.198      40\n",
       "5  Web_customMail@172.123.172.121      39\n",
       "6              Exc@172.123.172.14      36\n",
       "7                Z122UnixPSPDEV01      20\n",
       "8     LinuxServer @ Laboratory-14      11\n",
       "9            syslog 172.123.1.121       9"
      ]
     },
     "execution_count": 248,
     "metadata": {},
     "output_type": "execute_result"
    }
   ],
   "source": [
    "lsDF.value_counts().head(10).rename_axis('Log Sources').reset_index(name='counts') "
   ]
  },
  {
   "cell_type": "markdown",
   "id": "8d90d562-1549-4852-927c-6e61627a0bb1",
   "metadata": {},
   "source": [
    "## Detections by Security security contorl - Least frequent\n",
    "Least security controls contributing to the offenses. It's an indication if a security control is not sending or working as expcted\n",
    "\n",
    "Least frequent will show machines and servers, if you are following a nameing convention, better to exclude servers to show the security contorls. "
   ]
  },
  {
   "cell_type": "code",
   "execution_count": null,
   "id": "03b825a9-53b3-45e5-aa38-973baf74d211",
   "metadata": {},
   "outputs": [],
   "source": [
    "logsources=[]\n",
    "# to exclude \n",
    "exclude = ['NameConvention0', 'WindowsServers', 'LinuxServers','NameConvention1']\n",
    "\n",
    "def excluded(log_source):\n",
    "    for e in exclude:\n",
    "        if e.lower() in log_source.lower():\n",
    "            return True\n",
    "    return False\n",
    "    \n",
    "\n",
    "for ls in offenses[\"log_sources\"]:\n",
    "    for l in ls:\n",
    "        if \"Custom Rule Engine\" not in l['name'] and not excluded(l['name']):\n",
    "            logsources.append(l['name'])\n",
    "         \n",
    "lsDF = pd.DataFrame(logsources)\n",
    "\n"
   ]
  },
  {
   "cell_type": "code",
   "execution_count": 250,
   "id": "f1033ba5-0b5a-4138-be32-0335b6faa4f6",
   "metadata": {},
   "outputs": [
    {
     "data": {
      "text/html": [
       "<div>\n",
       "<style scoped>\n",
       "    .dataframe tbody tr th:only-of-type {\n",
       "        vertical-align: middle;\n",
       "    }\n",
       "\n",
       "    .dataframe tbody tr th {\n",
       "        vertical-align: top;\n",
       "    }\n",
       "\n",
       "    .dataframe thead th {\n",
       "        text-align: right;\n",
       "    }\n",
       "</style>\n",
       "<table border=\"1\" class=\"dataframe\">\n",
       "  <thead>\n",
       "    <tr style=\"text-align: right;\">\n",
       "      <th></th>\n",
       "      <th>Log Sources</th>\n",
       "      <th>counts</th>\n",
       "    </tr>\n",
       "  </thead>\n",
       "  <tbody>\n",
       "    <tr>\n",
       "      <th>0</th>\n",
       "      <td>WindowsAuthServer@172.123.205.172.</td>\n",
       "      <td>1</td>\n",
       "    </tr>\n",
       "    <tr>\n",
       "      <th>1</th>\n",
       "      <td>WindowsAuthServer@172.123.205.72</td>\n",
       "      <td>1</td>\n",
       "    </tr>\n",
       "    <tr>\n",
       "      <th>2</th>\n",
       "      <td>Z122UnixPACS01</td>\n",
       "      <td>1</td>\n",
       "    </tr>\n",
       "    <tr>\n",
       "      <th>3</th>\n",
       "      <td>Z122UnixPACS02</td>\n",
       "      <td>1</td>\n",
       "    </tr>\n",
       "    <tr>\n",
       "      <th>4</th>\n",
       "      <td>Z122UnixPAPPSPACE</td>\n",
       "      <td>1</td>\n",
       "    </tr>\n",
       "    <tr>\n",
       "      <th>5</th>\n",
       "      <td>Z122UnixPARCHMA01</td>\n",
       "      <td>1</td>\n",
       "    </tr>\n",
       "    <tr>\n",
       "      <th>6</th>\n",
       "      <td>Z122UnixPBAI03</td>\n",
       "      <td>1</td>\n",
       "    </tr>\n",
       "    <tr>\n",
       "      <th>7</th>\n",
       "      <td>Z122UnixPBMCENT02</td>\n",
       "      <td>1</td>\n",
       "    </tr>\n",
       "    <tr>\n",
       "      <th>8</th>\n",
       "      <td>Z122UnixPCA01</td>\n",
       "      <td>1</td>\n",
       "    </tr>\n",
       "    <tr>\n",
       "      <th>9</th>\n",
       "      <td>Z122UnixPLDR21</td>\n",
       "      <td>1</td>\n",
       "    </tr>\n",
       "    <tr>\n",
       "      <th>10</th>\n",
       "      <td>Z122UnixPLDR31</td>\n",
       "      <td>1</td>\n",
       "    </tr>\n",
       "    <tr>\n",
       "      <th>11</th>\n",
       "      <td>Z122UnixPSDHCP02</td>\n",
       "      <td>1</td>\n",
       "    </tr>\n",
       "    <tr>\n",
       "      <th>12</th>\n",
       "      <td>Z122UnixPSMSX1</td>\n",
       "      <td>1</td>\n",
       "    </tr>\n",
       "    <tr>\n",
       "      <th>13</th>\n",
       "      <td>Z122UnixPSMSX2</td>\n",
       "      <td>1</td>\n",
       "    </tr>\n",
       "    <tr>\n",
       "      <th>14</th>\n",
       "      <td>Z122UnixPSMSX5</td>\n",
       "      <td>1</td>\n",
       "    </tr>\n",
       "    <tr>\n",
       "      <th>15</th>\n",
       "      <td>Z122UnixPVBIWC</td>\n",
       "      <td>1</td>\n",
       "    </tr>\n",
       "    <tr>\n",
       "      <th>16</th>\n",
       "      <td>Z122UnixPVBMCAP01</td>\n",
       "      <td>1</td>\n",
       "    </tr>\n",
       "    <tr>\n",
       "      <th>17</th>\n",
       "      <td>Z122UnixPVBMCAP02</td>\n",
       "      <td>1</td>\n",
       "    </tr>\n",
       "    <tr>\n",
       "      <th>18</th>\n",
       "      <td>Z122UnixPVBMCAP03</td>\n",
       "      <td>1</td>\n",
       "    </tr>\n",
       "    <tr>\n",
       "      <th>19</th>\n",
       "      <td>syslog 172.123.205.130</td>\n",
       "      <td>1</td>\n",
       "    </tr>\n",
       "  </tbody>\n",
       "</table>\n",
       "</div>"
      ],
      "text/plain": [
       "                           Log Sources  counts\n",
       "0   WindowsAuthServer@172.123.205.172.       1\n",
       "1     WindowsAuthServer@172.123.205.72       1\n",
       "2                       Z122UnixPACS01       1\n",
       "3                       Z122UnixPACS02       1\n",
       "4                    Z122UnixPAPPSPACE       1\n",
       "5                    Z122UnixPARCHMA01       1\n",
       "6                       Z122UnixPBAI03       1\n",
       "7                    Z122UnixPBMCENT02       1\n",
       "8                        Z122UnixPCA01       1\n",
       "9                       Z122UnixPLDR21       1\n",
       "10                      Z122UnixPLDR31       1\n",
       "11                    Z122UnixPSDHCP02       1\n",
       "12                      Z122UnixPSMSX1       1\n",
       "13                      Z122UnixPSMSX2       1\n",
       "14                      Z122UnixPSMSX5       1\n",
       "15                      Z122UnixPVBIWC       1\n",
       "16                   Z122UnixPVBMCAP01       1\n",
       "17                   Z122UnixPVBMCAP02       1\n",
       "18                   Z122UnixPVBMCAP03       1\n",
       "19              syslog 172.123.205.130       1"
      ]
     },
     "execution_count": 250,
     "metadata": {},
     "output_type": "execute_result"
    }
   ],
   "source": [
    "lsDF.value_counts().tail(20).rename_axis('Log Sources').reset_index(name='counts') "
   ]
  },
  {
   "cell_type": "markdown",
   "id": "31d1bf71-5b5c-4c6f-8965-fbe40059a544",
   "metadata": {},
   "source": [
    "---"
   ]
  },
  {
   "cell_type": "markdown",
   "id": "bd1b30ed-0960-4a7d-a484-96b0ab75acce",
   "metadata": {},
   "source": [
    "# Analysts perfromance "
   ]
  },
  {
   "cell_type": "markdown",
   "id": "fea5be42-79b8-42c3-9bd8-83f274539df9",
   "metadata": {},
   "source": [
    "## Distribution of offenses between analysts "
   ]
  },
  {
   "cell_type": "code",
   "execution_count": 254,
   "id": "a4bc1a64-a7c2-4e37-bf90-eb748a395e91",
   "metadata": {},
   "outputs": [
    {
     "data": {
      "text/plain": [
       "([<matplotlib.patches.Wedge at 0x1db085f4f40>],\n",
       " [Text(-1.1, 1.3471114790620887e-16, 'AnalystUser')])"
      ]
     },
     "execution_count": 254,
     "metadata": {},
     "output_type": "execute_result"
    },
    {
     "data": {
      "image/png": "[encoded data removed]",
      "text/plain": [
       "<Figure size 1296x432 with 1 Axes>"
      ]
     },
     "metadata": {},
     "output_type": "display_data"
    }
   ],
   "source": [
    "fig, axs = plt.subplots(figsize=(18, 6))\n",
    "count =  offenses[\"assigned_to\"].value_counts().head(20).rename_axis('Analyst').reset_index(name='counts')[\"counts\"]\n",
    "label =  offenses[\"assigned_to\"].value_counts().head(20).rename_axis('Analyst').reset_index(name='counts')[\"Analyst\"]\n",
    "plt.pie(count,  labels = label)"
   ]
  },
  {
   "cell_type": "markdown",
   "id": "76e6600d-47bb-4f6c-8713-c14fd5ae13d9",
   "metadata": {},
   "source": [
    "## Analyst performance by day"
   ]
  },
  {
   "cell_type": "code",
   "execution_count": 255,
   "id": "7898bb22-e1f9-4c34-8a5b-665819d7a046",
   "metadata": {},
   "outputs": [
    {
     "data": {
      "text/plain": [
       "<AxesSubplot:xlabel='offense_time'>"
      ]
     },
     "execution_count": 255,
     "metadata": {},
     "output_type": "execute_result"
    },
    {
     "data": {
      "image/png": "[encoded data removed]",
      "text/plain": [
       "<Figure size 864x288 with 1 Axes>"
      ]
     },
     "metadata": {
      "needs_background": "light"
     },
     "output_type": "display_data"
    }
   ],
   "source": [
    "fig, axs = plt.subplots(figsize=(12, 4))\n",
    "offenses[offenses['closing_reason'] == \"Escalated\"].groupby(offenses['offense_time'].dt.day)['assigned_to'].count().plot(kind='line',  rot=0, ax=axs)"
   ]
  }
 ],
 "metadata": {
  "kernelspec": {
   "display_name": "Python 3 (ipykernel)",
   "language": "python",
   "name": "python3"
  },
  "language_info": {
   "codemirror_mode": {
    "name": "ipython",
    "version": 3
   },
   "file_extension": ".py",
   "mimetype": "text/x-python",
   "name": "python",
   "nbconvert_exporter": "python",
   "pygments_lexer": "ipython3",
   "version": "3.10.1"
  }
 },
 "nbformat": 4,
 "nbformat_minor": 5
}
